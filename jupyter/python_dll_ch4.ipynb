{
 "cells": [
  {
   "cell_type": "markdown",
   "metadata": {},
   "source": [
    "# Python DLL Chapter4"
   ]
  },
  {
   "cell_type": "markdown",
   "metadata": {},
   "source": [
    "## 損失関数\n",
    "損失関数はニューラルネットワークの性能の**悪さ**を示す指標。\n",
    "\n",
    "現在のニューラルネットワークが教師データに対してどれだけ適合していないか、教師データにたいして　どれだけ一致していないかということを表す。\n",
    "\n",
    "一般に二乗和誤差、交差エントロピー誤差が使われる。"
   ]
  },
  {
   "cell_type": "markdown",
   "metadata": {},
   "source": [
    "### 二乗和誤差(mean squared error)\n",
    "最も有名な損失関数\n",
    "\n",
    "$$ E = \\frac{1}{2}\\sum_{k}{}(y_k-t_k)^2 $$\n",
    "\n",
    "$$\n",
    "y_k : ニューラルネットワークの出力　　\n",
    "t_k : 教師データ　　\n",
    "k   : 次元数\n",
    "$$\n"
   ]
  },
  {
   "cell_type": "code",
   "execution_count": 5,
   "metadata": {},
   "outputs": [],
   "source": [
    "import numpy as np\n",
    "import matplotlib.pyplot as plt\n",
    "import math"
   ]
  },
  {
   "cell_type": "code",
   "execution_count": 6,
   "metadata": {},
   "outputs": [],
   "source": [
    "def MeanSquaredError(y, t):\n",
    "    error = 0.5 * np.sum((y-t)**2)\n",
    "    return(error)"
   ]
  },
  {
   "cell_type": "code",
   "execution_count": 7,
   "metadata": {},
   "outputs": [],
   "source": [
    "#先ほどのmnistでは教師データは以下のような形になっている。\n",
    "#下のtは2が正解となっている。\n",
    "#このような表記を\"one-hot表現\"という\n",
    "t = [0,0,1,0,0,0,0,0,0,0,]\n",
    "\n",
    "# \"2\"の確率が最も高い場合\n",
    "y = [0.1, 0.05, 0.6, 0.0, 0.05, 0.1, 0.0, 0.1, 0.0, 0.0]"
   ]
  },
  {
   "cell_type": "code",
   "execution_count": 9,
   "metadata": {},
   "outputs": [
    {
     "data": {
      "text/plain": [
       "0.09750000000000003"
      ]
     },
     "execution_count": 9,
     "metadata": {},
     "output_type": "execute_result"
    }
   ],
   "source": [
    "MeanSquaredError(np.array(y),np.array(t))"
   ]
  },
  {
   "cell_type": "code",
   "execution_count": 10,
   "metadata": {},
   "outputs": [],
   "source": [
    "# \"7\"の確率が最も高い場合\n",
    "y = [0.1, 0.05, 0.1, 0.0, 0.05, 0.1, 0.0, 0.6, 0.0, 0.0]"
   ]
  },
  {
   "cell_type": "code",
   "execution_count": 11,
   "metadata": {},
   "outputs": [
    {
     "data": {
      "text/plain": [
       "0.5975"
      ]
     },
     "execution_count": 11,
     "metadata": {},
     "output_type": "execute_result"
    }
   ],
   "source": [
    "MeanSquaredError(np.array(y), np.array(t))"
   ]
  },
  {
   "cell_type": "markdown",
   "metadata": {},
   "source": [
    "### 交差エントロピー誤差(cross entropy error)\n",
    "\n",
    "$$ E = - \\sum_{k}{}t_k\\log y_k $$\n"
   ]
  },
  {
   "cell_type": "code",
   "execution_count": 16,
   "metadata": {
    "scrolled": true
   },
   "outputs": [
    {
     "data": {
      "text/plain": [
       "[<matplotlib.lines.Line2D at 0x7f62a4bfec18>]"
      ]
     },
     "execution_count": 16,
     "metadata": {},
     "output_type": "execute_result"
    },
    {
     "data": {
      "image/png": "[encoded data removed]",
      "text/plain": [
       "<Figure size 432x288 with 1 Axes>"
      ]
     },
     "metadata": {
      "needs_background": "light"
     },
     "output_type": "display_data"
    }
   ],
   "source": [
    "# y = log(x) のグラフ\n",
    "x = np.arange(0.01,1,0.01)\n",
    "y = np.log(x)\n",
    "plt.plot(x,y)"
   ]
  },
  {
   "cell_type": "code",
   "execution_count": 19,
   "metadata": {},
   "outputs": [],
   "source": [
    "def CrossEntropyError(y ,t):\n",
    "    delta = 1e-7\n",
    "    return(-np.sum(t*np.log(y+delta)))"
   ]
  },
  {
   "cell_type": "code",
   "execution_count": 20,
   "metadata": {},
   "outputs": [],
   "source": [
    "t = [0,0,1,0,0,0,0,0,0,0,]\n",
    "\n",
    "# \"2\"の確率が最も高い場合\n",
    "y = [0.1, 0.05, 0.6, 0.0, 0.05, 0.1, 0.0, 0.1, 0.0, 0.0]\n"
   ]
  },
  {
   "cell_type": "code",
   "execution_count": 22,
   "metadata": {},
   "outputs": [
    {
     "data": {
      "text/plain": [
       "0.510825457099338"
      ]
     },
     "execution_count": 22,
     "metadata": {},
     "output_type": "execute_result"
    }
   ],
   "source": [
    "CrossEntropyError(np.array(y),np.array(t))"
   ]
  },
  {
   "cell_type": "code",
   "execution_count": 23,
   "metadata": {},
   "outputs": [],
   "source": [
    "# \"7\"の確率が最も高い場合\n",
    "y = [0.1, 0.05, 0.1, 0.0, 0.05, 0.1, 0.0, 0.6, 0.0, 0.0]"
   ]
  },
  {
   "cell_type": "code",
   "execution_count": 24,
   "metadata": {},
   "outputs": [
    {
     "data": {
      "text/plain": [
       "2.302584092994546"
      ]
     },
     "execution_count": 24,
     "metadata": {},
     "output_type": "execute_result"
    }
   ],
   "source": [
    "CrossEntropyError(np.array(y),np.array(t))"
   ]
  },
  {
   "cell_type": "markdown",
   "metadata": {},
   "source": [
    "### ミニバッチ学習\n",
    "上記の損失関数はひとつの訓練データに対しての関数。\n",
    "\n",
    "実際に訓練データが100個あれば、この損失関数は100個の損失関数の和を求め、最後に100で割って正規化をし、指標として利用する。\n",
    "\n",
    "交差エントロピー誤差を例にすると\n",
    "\n",
    "$$ E = -\\frac{1}{N} \\sum_{n}{}\\sum_{k}{}t_{nk} \\log y_{nk}\\ $$\n",
    "\n",
    "となる\n"
   ]
  },
  {
   "cell_type": "markdown",
   "metadata": {},
   "source": [
    "しかし、学習データが例えばmnistだと60,000枚あるとこの誤差を求めるのに時間がかかってしまう。\n",
    "\n",
    "そこで、訓練データの中から一定の枚数だけを選び出し(ミニバッチ)、そのミニバッチごとに学習を行う。\n",
    "\n",
    "これを**ミニバッチ学習**という。"
   ]
  },
  {
   "cell_type": "code",
   "execution_count": 26,
   "metadata": {},
   "outputs": [],
   "source": [
    "# ミニバッチ対応版\n",
    "def CrossEntoropyError( y, t):\n",
    "    if y.ndim == 1:\n",
    "        t = t.reshape(1, t.size)\n",
    "        y = y.reshape(1, y.size)\n",
    "        \n",
    "    batch_size = y.shape[0]\n",
    "    return(-np.sum(np.log(y[np.arrange(batch_size),t] + 1e-7))/batch_size)"
   ]
  },
  {
   "cell_type": "markdown",
   "metadata": {},
   "source": [
    "### 微分\n"
   ]
  },
  {
   "cell_type": "code",
   "execution_count": 29,
   "metadata": {},
   "outputs": [],
   "source": [
    "def NumericalGradient(f, x):\n",
    "    h = 1e-4 #0.0001\n",
    "    grad = np.zeros_like(x)\n",
    "    \n",
    "    for idx in range(x.size):\n",
    "        tmp_val = x[idx]\n",
    "        #f(x+h)\n",
    "        x[idx] = tmp_val + h\n",
    "        fxh1 = f(x)\n",
    "        \n",
    "        #f(x-h)\n",
    "        x[idx] = tmp_val - h\n",
    "        fxh2 = f(x)\n",
    "        \n",
    "        grad[idx] = (fxh1 - fxh2) / (2*h)\n",
    "        x[idx] = tmp_val\n",
    "    return(grad)"
   ]
  },
  {
   "cell_type": "code",
   "execution_count": 30,
   "metadata": {},
   "outputs": [],
   "source": [
    "def Function2(x):\n",
    "    return(x[0]**2 + x[1]**2)"
   ]
  },
  {
   "cell_type": "code",
   "execution_count": 31,
   "metadata": {},
   "outputs": [
    {
     "data": {
      "text/plain": [
       "array([6., 8.])"
      ]
     },
     "execution_count": 31,
     "metadata": {},
     "output_type": "execute_result"
    }
   ],
   "source": [
    "NumericalGradient(Function2, np.array([3.0, 4.0]))"
   ]
  },
  {
   "cell_type": "code",
   "execution_count": 32,
   "metadata": {},
   "outputs": [
    {
     "data": {
      "text/plain": [
       "array([0., 4.])"
      ]
     },
     "execution_count": 32,
     "metadata": {},
     "output_type": "execute_result"
    }
   ],
   "source": [
    "NumericalGradient(Function2, np.array([0.0, 2.0]))"
   ]
  },
  {
   "cell_type": "markdown",
   "metadata": {},
   "source": [
    "### 勾配法\n",
    "機械学習では学習の際に最適なパラメータを探す。\n",
    "ここで、最適なパラメータとは、損失関数が最小値を取る時のパラメータのこと。\n",
    "\n",
    "しかし、そうわかっていてもパラメータ空間は広大で、どこに最小値があるのかわからない。\n",
    "\n",
    "そこで、勾配をうまく利用して関数の最小値(あるいは、できるだけ小さい値)を探そうというのが勾配法。\n",
    "\n",
    "勾配の方向が必ず最小値に向かうという保証はないが、その方向にすすむことで関数の値を最も減らすことができる。\n",
    "\n",
    "そこで、勾配法では現在の場所から勾配方向に一定の距離だけ進み、移動した先でも勾配を求め、またその勾配方向へと移動する。\n",
    "このように繰り返し勾配方向へ進むことで関数の値を徐々に減らすのが**勾配法(gradient method)**。\n",
    "\n",
    "ちなみに勾配法は**最大値**を探す場合は**勾配上昇法**、逆に**最小値**を探す場合には**勾配降下法**と呼ばれる。\n",
    "ただ、結局これは符号の問題でしかないため、本質的な違いは存在しない。また、ニューラルネットでは主に降下法が使われている。\n",
    "\n",
    "勾配法:\n",
    "$$ x_0 = x_0 - \\eta\\frac{ \\partial f}{\\partial x_0}$$\n",
    "$$ x_1 = x_1 - \\eta\\frac{ \\partial f}{\\partial x_1}$$\n",
    "$$ \\eta : ニューラルネット学習率 $$\n",
    "\n",
    "学習率とは、一回の学習で、どれだけ学習させるか、どれだけパラメータを更新するかということを決めるパラメータ。\n",
    "\n",
    "上の数式は、一回のステップを示しており、実際にはこれを何度も繰り返しおこなっていくことで学習を進めていく。\n",
    "\n",
    "ここでは変数の数が増えてもそれぞれの変数の偏微分の値によって更新されることになる。\n"
   ]
  },
  {
   "cell_type": "code",
   "execution_count": 33,
   "metadata": {},
   "outputs": [],
   "source": [
    "def GradientDescent( function, init_x, learning_rate=0.01, step_num=100):\n",
    "    x = init_x\n",
    "    \n",
    "    for i in range(step_num):\n",
    "        grad = NumericalGradient( function, x)\n",
    "        x -= learning_rate * grad\n",
    "    \n",
    "    return(x)"
   ]
  },
  {
   "cell_type": "code",
   "execution_count": 35,
   "metadata": {},
   "outputs": [
    {
     "data": {
      "text/plain": [
       "array([-2.58983747e+13, -1.29524862e+12])"
      ]
     },
     "execution_count": 35,
     "metadata": {},
     "output_type": "execute_result"
    }
   ],
   "source": [
    "def Function2( x ):\n",
    "    return(x[0]**2 + x[1]**2)\n",
    "\n",
    "init_x = np.array([-3.0, 4.0])\n",
    "# 学習率が大きすぎる例 learning_rate = 10.0\n",
    "GradientDescent( Function2, init_x, learning_rate = 10.0, step_num = 100)"
   ]
  },
  {
   "cell_type": "code",
   "execution_count": 37,
   "metadata": {},
   "outputs": [
    {
     "data": {
      "text/plain": [
       "array([-2.99999994,  3.99999992])"
      ]
     },
     "execution_count": 37,
     "metadata": {},
     "output_type": "execute_result"
    }
   ],
   "source": [
    "# 学習率が小さすぎる例　learning_rate = 1e-10\n",
    "init_x = np.array([-3.0, 4.0])\n",
    "GradientDescent( Function2, init_x, learning_rate = 1e-10, step_num = 100)"
   ]
  },
  {
   "cell_type": "markdown",
   "metadata": {},
   "source": [
    "この学習率のようなパラメータは一般に**ハイパーパラメータ**と呼ばれるもので、よく機械学習は最後は職人技と呼ばれる所以。"
   ]
  },
  {
   "cell_type": "markdown",
   "metadata": {},
   "source": [
    "実際にニューラルネットワークで求める必要がある勾配とは、重みパラメータに関する損失関数の勾配になる。\n",
    "例えば以下のような重みWがあった際、その損失関数Lの勾配は以下のようになる。\n",
    "\n",
    "$$ \n",
    "W = \\left[\\begin{array}{ccc}\n",
    "w_{11} & w_{12} & w_{13} \\\\\n",
    "w_{21} & w_{22} & w_{23} \\\\\n",
    "\\end{array}\\right] \\quad\n",
    "$$\n",
    "\n",
    "$$\n",
    "\\frac{\\partial L}{\\partial W} =\n",
    "\\left[\\begin{array}{ccc}\n",
    "\\frac{\\partial L}{\\partial w_{11}} & \\frac{\\partial L}{\\partial w_{12}} & \\frac{\\partial L}{\\partial w_{13}} \\\\ \n",
    "\\frac{\\partial L}{\\partial w_{21}} & \\frac{\\partial L}{\\partial w_{22}} & \\frac{\\partial L}{\\partial w_{23}}\n",
    "\\end{array}\\right] \\quad\n",
    "$$\n"
   ]
  },
  {
   "cell_type": "code",
   "execution_count": null,
   "metadata": {},
   "outputs": [],
   "source": []
  }
 ],
 "metadata": {
  "kernelspec": {
   "display_name": "Python 3",
   "language": "python",
   "name": "python3"
  },
  "language_info": {
   "codemirror_mode": {
    "name": "ipython",
    "version": 3
   },
   "file_extension": ".py",
   "mimetype": "text/x-python",
   "name": "python",
   "nbconvert_exporter": "python",
   "pygments_lexer": "ipython3",
   "version": "3.7.3"
  }
 },
 "nbformat": 4,
 "nbformat_minor": 2
}
