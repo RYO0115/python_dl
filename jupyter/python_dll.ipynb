{
 "cells": [
  {
   "cell_type": "markdown",
   "metadata": {},
   "source": [
    "# Python_DLL\n",
    "\n",
    "## Perceptron\n",
    "\n",
    "Perceptronは1957年に提唱されたアルゴリズムでDLLの起源ともいえるアルゴリズム\n",
    "\n",
    "b\n",
    "は \n",
    "**bias**\n",
    "と呼ばれ、各node(neuron)の発火しやすさを調整するパラメータ\n",
    "\n",
    "w \n",
    "は\n",
    "**weight(重み)**\n",
    "と呼ばれ、各nodeからの入力の重要度を示すパラメータ"
   ]
  },
  {
   "cell_type": "code",
   "execution_count": 1,
   "metadata": {},
   "outputs": [],
   "source": [
    "import math\n"
   ]
  },
  {
   "cell_type": "code",
   "execution_count": 2,
   "metadata": {},
   "outputs": [],
   "source": [
    "import numpy as np\n"
   ]
  },
  {
   "cell_type": "code",
   "execution_count": 10,
   "metadata": {},
   "outputs": [],
   "source": [
    "def AND( x1, x2):\n",
    "    x = np.array([x1, x2])\n",
    "    w = np.array([0.5,0.5])\n",
    "    b = -0.7\n",
    "    \n",
    "    tmp = np.sum(w*x) + b\n",
    "    if tmp <= 0:\n",
    "        return(0)\n",
    "    else:\n",
    "        return(1)"
   ]
  },
  {
   "cell_type": "code",
   "execution_count": 11,
   "metadata": {},
   "outputs": [],
   "source": [
    "def NAND( x1, x2):\n",
    "    x = np.array([x1, x2])\n",
    "    w = np.array([-0.5, -0.5])\n",
    "    b = 0.7\n",
    "    \n",
    "    tmp = np.sum(w*x) + b\n",
    "    if tmp<= 0:\n",
    "        return(0)\n",
    "    else:\n",
    "        return(1)"
   ]
  },
  {
   "cell_type": "code",
   "execution_count": 13,
   "metadata": {},
   "outputs": [],
   "source": [
    "def OR( x1, x2):\n",
    "    x = np.array([x1,x2])\n",
    "    w = np.array([0.5,0.5])\n",
    "    b = -0.2\n",
    "    tmp = np.sum(w*x) + b\n",
    "    if tmp<=0:\n",
    "        return(0)\n",
    "    else:\n",
    "        return(1)"
   ]
  },
  {
   "cell_type": "code",
   "execution_count": 14,
   "metadata": {},
   "outputs": [],
   "source": [
    "def XOR( x1, x2):\n",
    "    if AND(NAND(x1,x2),OR(x1,x2)):\n",
    "        return(1)\n",
    "    else:\n",
    "        return(0)"
   ]
  },
  {
   "cell_type": "markdown",
   "metadata": {},
   "source": [
    "# 活性化関数\n",
    "入力信号の総和を出力信号に変換する関数を一般に**活性化関数**と呼ばれる。\n",
    "\n",
    "例えばPerceptronだと、\n",
    "\n",
    "$$ y = h( b + w_1 x_1 + w_2 x_2) $$\n",
    "\n",
    "と表されるこのh()関数が活性化関数になる。\n",
    "\n",
    "活性化関数は閾値を境にして出力が切り替わる関数で、一般に\n",
    "**ステップ関数**や**階段関数**と呼ばれる。\n",
    "\n",
    "ここで、活性化関数を実際に実装していくが、\n",
    "先ほどのPerceptron とこれからやっていくニューラルネットワークの主な違いは、**この活性化関数だけである!!**\n"
   ]
  },
  {
   "cell_type": "markdown",
   "metadata": {},
   "source": [
    "## ステップ関数\n",
    "以下にステップ関数を実際に実装してみる"
   ]
  },
  {
   "cell_type": "code",
   "execution_count": 44,
   "metadata": {},
   "outputs": [],
   "source": [
    "def StepFunction(x):\n",
    "    y = x > 0\n",
    "    return(y.astype(np.int))"
   ]
  },
  {
   "cell_type": "code",
   "execution_count": 45,
   "metadata": {},
   "outputs": [
    {
     "data": {
      "text/plain": [
       "array([1, 0])"
      ]
     },
     "execution_count": 45,
     "metadata": {},
     "output_type": "execute_result"
    }
   ],
   "source": [
    "StepFunction(np.array([3.0, -0.5]))"
   ]
  },
  {
   "cell_type": "code",
   "execution_count": 46,
   "metadata": {},
   "outputs": [],
   "source": [
    "import matplotlib.pyplot as plt"
   ]
  },
  {
   "cell_type": "code",
   "execution_count": 47,
   "metadata": {},
   "outputs": [],
   "source": [
    "x0 = np.arange(-5.0, 5.0, 0.1)\n",
    "y0 = StepFunction(x)"
   ]
  },
  {
   "cell_type": "code",
   "execution_count": 41,
   "metadata": {},
   "outputs": [
    {
     "data": {
      "text/plain": [
       "(-0.1, 1.1)"
      ]
     },
     "execution_count": 41,
     "metadata": {},
     "output_type": "execute_result"
    },
    {
     "data": {
      "image/png": "[encoded data removed]",
      "text/plain": [
       "<Figure size 432x288 with 1 Axes>"
      ]
     },
     "metadata": {
      "needs_background": "light"
     },
     "output_type": "display_data"
    }
   ],
   "source": [
    "plt.plot(x0,y0)\n",
    "plt.ylim(-0.1,1.1)\n"
   ]
  },
  {
   "cell_type": "markdown",
   "metadata": {},
   "source": [
    "## シグモイド関数\n",
    "ニューラルネットワークでよく使われる活性化関数の一つが**シグモイド関数(sigmoid function)**。\n",
    "\n",
    "$$ h(x) = \\frac{1}{1+\\exp(-x)} $$\n",
    "\n"
   ]
  },
  {
   "cell_type": "code",
   "execution_count": 48,
   "metadata": {},
   "outputs": [],
   "source": [
    "def Sigmoid(x):\n",
    "    h = 1 / (1 + np.exp(-x))\n",
    "    return(h)"
   ]
  },
  {
   "cell_type": "code",
   "execution_count": 49,
   "metadata": {},
   "outputs": [],
   "source": [
    "x = np.arange(-5.0, 5.0, 0.1)"
   ]
  },
  {
   "cell_type": "code",
   "execution_count": 50,
   "metadata": {},
   "outputs": [],
   "source": [
    "y = Sigmoid(x)"
   ]
  },
  {
   "cell_type": "code",
   "execution_count": 51,
   "metadata": {},
   "outputs": [
    {
     "data": {
      "text/plain": [
       "(-0.1, 1.1)"
      ]
     },
     "execution_count": 51,
     "metadata": {},
     "output_type": "execute_result"
    },
    {
     "data": {
      "image/png": "[encoded data removed]",
      "text/plain": [
       "<Figure size 432x288 with 1 Axes>"
      ]
     },
     "metadata": {
      "needs_background": "light"
     },
     "output_type": "display_data"
    }
   ],
   "source": [
    "plt.plot(x0,y0,linestyle=\"dashed\")\n",
    "plt.plot(x,y)\n",
    "plt.ylim(-0.1,1.1)"
   ]
  },
  {
   "cell_type": "markdown",
   "metadata": {},
   "source": [
    "## ステップ関数とシグモイド関数の比較\n",
    "上のグラフで示す通り、ステップ関数とシグモイド関数の違いはその**滑らかさ**である。\n",
    "\n",
    "ただ、どちらも入力が大きくなれば1に近づき、逆に入力が小さくなれば0に近づくという構造になっている。\n",
    "\n",
    "またどちらも**非線形関数**である。\n",
    "\n",
    "ニューラルネットワークでは、活性化関数は非線形の関数である必要がある。\n",
    "(線形の関数だと隠れ層を用意する必要がなくなるため)"
   ]
  },
  {
   "cell_type": "markdown",
   "metadata": {},
   "source": [
    "## ReLU関数\n",
    "シグモイド関数は昔からニューラルネットに使われている活性化関数だが、最近ではReLU関数がよく使われている。\n"
   ]
  },
  {
   "cell_type": "code",
   "execution_count": 52,
   "metadata": {},
   "outputs": [],
   "source": [
    "def Relu( x ):\n",
    "    return(np.maximum(0,x))"
   ]
  },
  {
   "cell_type": "code",
   "execution_count": 54,
   "metadata": {},
   "outputs": [],
   "source": [
    "x2 = x\n",
    "y2 = Relu(x2)"
   ]
  },
  {
   "cell_type": "code",
   "execution_count": 55,
   "metadata": {},
   "outputs": [
    {
     "data": {
      "text/plain": [
       "[<matplotlib.lines.Line2D at 0x7f5485a07630>]"
      ]
     },
     "execution_count": 55,
     "metadata": {},
     "output_type": "execute_result"
    },
    {
     "data": {
      "image/png": "[encoded data removed]",
      "text/plain": [
       "<Figure size 432x288 with 1 Axes>"
      ]
     },
     "metadata": {
      "needs_background": "light"
     },
     "output_type": "display_data"
    }
   ],
   "source": [
    "plt.plot(x2, y2)"
   ]
  },
  {
   "cell_type": "markdown",
   "metadata": {},
   "source": [
    "## 3層ニューラルネットの実装\n",
    "\n",
    "ここでは隠れ層を２つ持ち、第0層(入力層)に2つ、第一層に３つ、第二層に2つのニューロンを持つニューラルネットを作る。(出力層は2つ)"
   ]
  },
  {
   "cell_type": "markdown",
   "metadata": {},
   "source": [
    "### 第一層"
   ]
  },
  {
   "cell_type": "code",
   "execution_count": 57,
   "metadata": {},
   "outputs": [],
   "source": [
    "x = np.array([1.0,0.5])\n",
    "w1 = np.array([[0.1,0.3,0.5],[0.2,0.4,0.6]])\n",
    "b1 = np.array([0.1,0.2,0.3])\n",
    "\n",
    "a1 = np.dot(x, w1) + b1"
   ]
  },
  {
   "cell_type": "code",
   "execution_count": 58,
   "metadata": {},
   "outputs": [],
   "source": [
    "z1 = Sigmoid(a1)"
   ]
  },
  {
   "cell_type": "code",
   "execution_count": 59,
   "metadata": {},
   "outputs": [
    {
     "data": {
      "text/plain": [
       "array([0.57444252, 0.66818777, 0.75026011])"
      ]
     },
     "execution_count": 59,
     "metadata": {},
     "output_type": "execute_result"
    }
   ],
   "source": [
    "z1"
   ]
  },
  {
   "cell_type": "markdown",
   "metadata": {},
   "source": [
    "### 第二層"
   ]
  },
  {
   "cell_type": "code",
   "execution_count": 61,
   "metadata": {},
   "outputs": [],
   "source": [
    "w2 = np.array([[0.1,0.4],[0.2,0.5],[0.3,0.6]])\n",
    "b2 = np.array([0.1,0.2])\n",
    "\n",
    "a2 = np.dot(z1, w2) + b2"
   ]
  },
  {
   "cell_type": "code",
   "execution_count": 62,
   "metadata": {},
   "outputs": [],
   "source": [
    "z2 = Sigmoid(a2)"
   ]
  },
  {
   "cell_type": "code",
   "execution_count": 63,
   "metadata": {},
   "outputs": [
    {
     "data": {
      "text/plain": [
       "array([0.62624937, 0.7710107 ])"
      ]
     },
     "execution_count": 63,
     "metadata": {},
     "output_type": "execute_result"
    }
   ],
   "source": [
    "z2"
   ]
  },
  {
   "cell_type": "markdown",
   "metadata": {},
   "source": [
    "### 第三層(出力層)\n",
    "\n",
    "ここでは活性化関数のみ他の層とは違う。\n"
   ]
  },
  {
   "cell_type": "code",
   "execution_count": 64,
   "metadata": {},
   "outputs": [],
   "source": [
    "def IdentifyFunction( x ):\n",
    "    return(x)"
   ]
  },
  {
   "cell_type": "markdown",
   "metadata": {},
   "source": [
    "このIdentifyFunctionは**恒等関数**と呼ばれる。\n",
    "この関数は、ただ入力をそのまま出力する関数。\n",
    "\n",
    "そのため、なくても構わないが、他の層と形を整えるためにこの関数を作った。"
   ]
  },
  {
   "cell_type": "code",
   "execution_count": 66,
   "metadata": {},
   "outputs": [],
   "source": [
    "w3 = np.array([[0.1,0.3], [0.2,0.4]])\n",
    "b3 = np.array([0.1,0.2])"
   ]
  },
  {
   "cell_type": "code",
   "execution_count": 67,
   "metadata": {},
   "outputs": [],
   "source": [
    "a3 = np.dot(z2,w3) + b3"
   ]
  },
  {
   "cell_type": "code",
   "execution_count": 68,
   "metadata": {},
   "outputs": [],
   "source": [
    "y = IdentifyFunction(a3)"
   ]
  },
  {
   "cell_type": "code",
   "execution_count": 69,
   "metadata": {},
   "outputs": [
    {
     "data": {
      "text/plain": [
       "array([0.31682708, 0.69627909])"
      ]
     },
     "execution_count": 69,
     "metadata": {},
     "output_type": "execute_result"
    }
   ],
   "source": [
    "y"
   ]
  },
  {
   "cell_type": "markdown",
   "metadata": {},
   "source": [
    "### まとめ\n",
    "\n",
    "試しに実装してみる\n"
   ]
  },
  {
   "cell_type": "code",
   "execution_count": 92,
   "metadata": {},
   "outputs": [],
   "source": [
    "class Layer():\n",
    "    def __init__(self):\n",
    "        self.__weight = np.zeros(1)\n",
    "        self.__bias   = np.zeros(1)\n",
    "        #self.input  = np.zeros(1)\n",
    "        #self.output = np.zeros(1)\n",
    "\n",
    "    def SetWeight(self, weight):\n",
    "        self.__weight = weight\n",
    "    \n",
    "    def SetBias(self, bias):\n",
    "        self.__bias = bias\n",
    "    \n",
    "    def Sigmoid(self, x):\n",
    "        h = 1 / (1 + np.exp(-x))\n",
    "        return(h)\n",
    "    \n",
    "    def CalcInput(self, x):\n",
    "        a = np.dot(x,self.__weight) + self.__bias\n",
    "        return(a)\n",
    "    \n",
    "    def Forward(self, x):\n",
    "        z = self.Sigmoid(x)\n",
    "        return(z)\n",
    "    \n",
    "    def Show(self):\n",
    "        print(\"weight:\",self.__weight)\n",
    "        print(\"bias:\", self.__bias)\n",
    "    "
   ]
  },
  {
   "cell_type": "code",
   "execution_count": 93,
   "metadata": {},
   "outputs": [],
   "source": [
    "def InitNetwork():\n",
    "    network = [Layer() for i in range(3)]\n",
    "    \n",
    "    network[0].SetWeight(np.array([[0.1,0.3,0.5],[0.2,0.4,0.6]]))\n",
    "    network[0].SetBias(np.array([0.1,0.2,0.3]))\n",
    "    network[0].Show()\n",
    "    \n",
    "    network[1].SetWeight(np.array([[0.1,0.4],[0.2,0.5],[0.3,0.6]]))\n",
    "    network[1].SetBias(np.array([0.1,0.2]))\n",
    "    network[1].Show()\n",
    "    \n",
    "    network[2].SetWeight(np.array([[0.1,0.3],[0.2,0.4]]))\n",
    "    network[2].SetBias(np.array([0.1,0.2]))\n",
    "    network[2].Show()\n",
    "    \n",
    "    return(network)\n"
   ]
  },
  {
   "cell_type": "code",
   "execution_count": 109,
   "metadata": {},
   "outputs": [],
   "source": [
    "def Forward(network, x):\n",
    "    tmp = x\n",
    "    for i in range(len(network)-1):\n",
    "        tmp = network[i].CalcInput(tmp)\n",
    "        tmp = network[i].Forward(tmp)\n",
    "    tmp = network[len(network)-1].CalcInput(tmp)\n",
    "    y = IdentifyFunction(tmp)\n",
    "    return(y)"
   ]
  },
  {
   "cell_type": "code",
   "execution_count": 110,
   "metadata": {},
   "outputs": [
    {
     "name": "stdout",
     "output_type": "stream",
     "text": [
      "weight: [[0.1 0.3 0.5]\n",
      " [0.2 0.4 0.6]]\n",
      "bias: [0.1 0.2 0.3]\n",
      "weight: [[0.1 0.4]\n",
      " [0.2 0.5]\n",
      " [0.3 0.6]]\n",
      "bias: [0.1 0.2]\n",
      "weight: [[0.1 0.3]\n",
      " [0.2 0.4]]\n",
      "bias: [0.1 0.2]\n"
     ]
    }
   ],
   "source": [
    "network = InitNetwork()"
   ]
  },
  {
   "cell_type": "code",
   "execution_count": 111,
   "metadata": {},
   "outputs": [],
   "source": [
    "x = np.array([1.0,0.5])"
   ]
  },
  {
   "cell_type": "code",
   "execution_count": 112,
   "metadata": {},
   "outputs": [],
   "source": [
    "y = Forward(network, x)"
   ]
  },
  {
   "cell_type": "code",
   "execution_count": 113,
   "metadata": {},
   "outputs": [
    {
     "data": {
      "text/plain": [
       "array([0.31682708, 0.69627909])"
      ]
     },
     "execution_count": 113,
     "metadata": {},
     "output_type": "execute_result"
    }
   ],
   "source": [
    "y"
   ]
  },
  {
   "cell_type": "code",
   "execution_count": null,
   "metadata": {},
   "outputs": [],
   "source": []
  }
 ],
 "metadata": {
  "kernelspec": {
   "display_name": "Python 3",
   "language": "python",
   "name": "python3"
  },
  "language_info": {
   "codemirror_mode": {
    "name": "ipython",
    "version": 3
   },
   "file_extension": ".py",
   "mimetype": "text/x-python",
   "name": "python",
   "nbconvert_exporter": "python",
   "pygments_lexer": "ipython3",
   "version": "3.7.3"
  }
 },
 "nbformat": 4,
 "nbformat_minor": 2
}
