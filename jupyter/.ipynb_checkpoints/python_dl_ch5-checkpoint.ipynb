{
 "cells": [
  {
   "cell_type": "markdown",
   "metadata": {},
   "source": [
    "# Python DL Chapter5"
   ]
  },
  {
   "cell_type": "markdown",
   "metadata": {},
   "source": [
    "## 誤差逆伝播法\n",
    "\n",
    "四章で、試しに学習をやらせてみたが、重みパラメータの勾配(重みパラメータに関する損失関数の勾配)を数値微分で求めていると、実装は簡単だったが、計算時間が膨大なため、全くと言っていいほど学習が進まなかった。(一晩やらせて、4epochしか進まなかった。結構いいPCなのに。。。)\n",
    "\n",
    "そこで、この計算を効率よく行う方法に**誤差逆伝播法**がある。\n",
    "\n",
    "ちなみにこの書籍ではグラフを使って説明されていて、その参考元はAndrej KarpathyさんとあのFei-Fei Liさんらしい。(スタンフォード大学教授)\n",
    "前者のAndrejさんはあまり知らないが、Fei-Fei Li さんは確か、TRU (TOYOTA Research Institute)に引きぬかれた、Deep Learning界隈での超大物なので、勝手に学習意欲が高まった。"
   ]
  },
  {
   "cell_type": "markdown",
   "metadata": {},
   "source": [
    "### 計算グラフ\n",
    "Node と Edgeで構成されるグラフ構造で説明されており、すごくわかりやすい。\n",
    "\n"
   ]
  }
 ],
 "metadata": {
  "kernelspec": {
   "display_name": "Python 3",
   "language": "python",
   "name": "python3"
  },
  "language_info": {
   "codemirror_mode": {
    "name": "ipython",
    "version": 3
   },
   "file_extension": ".py",
   "mimetype": "text/x-python",
   "name": "python",
   "nbconvert_exporter": "python",
   "pygments_lexer": "ipython3",
   "version": "3.7.3"
  }
 },
 "nbformat": 4,
 "nbformat_minor": 2
}
